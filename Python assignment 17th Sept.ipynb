{
 "cells": [
  {
   "cell_type": "code",
   "execution_count": 1,
   "id": "bef766c9-1ec0-4de7-a702-ae6bb10ab992",
   "metadata": {},
   "outputs": [
    {
     "name": "stdout",
     "output_type": "stream",
     "text": [
      "1\n",
      "2\n",
      "3\n",
      "4\n",
      "5\n",
      "6\n",
      "7\n",
      "8\n",
      "9\n",
      "10\n"
     ]
    }
   ],
   "source": [
    "for i in range(1, 11):\n",
    "    print(i)\n"
   ]
  },
  {
   "cell_type": "code",
   "execution_count": 2,
   "id": "da584887-fb4b-4ed8-ba6a-ddf50455fb83",
   "metadata": {},
   "outputs": [
    {
     "name": "stdout",
     "output_type": "stream",
     "text": [
      "Sum: 5050\n"
     ]
    }
   ],
   "source": [
    "sum_result = 0\n",
    "for i in range(1, 101):\n",
    "    sum_result += i\n",
    "print(\"Sum:\", sum_result)\n"
   ]
  },
  {
   "cell_type": "code",
   "execution_count": 3,
   "id": "021198a3-235a-476b-9b71-232b18412522",
   "metadata": {},
   "outputs": [
    {
     "name": "stdout",
     "output_type": "stream",
     "text": [
      "1\n",
      "2\n",
      "3\n",
      "4\n",
      "5\n"
     ]
    }
   ],
   "source": [
    "my_list = [1, 2, 3, 4, 5]\n",
    "for item in my_list:\n",
    "    print(item)\n"
   ]
  },
  {
   "cell_type": "code",
   "execution_count": 4,
   "id": "08d73451-0e91-4bba-8d6e-46b2ac5ca2ab",
   "metadata": {},
   "outputs": [
    {
     "name": "stdout",
     "output_type": "stream",
     "text": [
      "Product: 120\n"
     ]
    }
   ],
   "source": [
    "my_list = [1, 2, 3, 4, 5]\n",
    "product = 1\n",
    "for item in my_list:\n",
    "    product *= item\n",
    "print(\"Product:\", product)\n"
   ]
  },
  {
   "cell_type": "code",
   "execution_count": 5,
   "id": "7d8edfe4-bcc0-46ac-b7e5-a4abfe29705d",
   "metadata": {},
   "outputs": [
    {
     "name": "stdout",
     "output_type": "stream",
     "text": [
      "2\n",
      "4\n",
      "6\n",
      "8\n",
      "10\n",
      "12\n",
      "14\n",
      "16\n",
      "18\n",
      "20\n"
     ]
    }
   ],
   "source": [
    "for i in range(2, 21, 2):\n",
    "    print(i)\n"
   ]
  },
  {
   "cell_type": "code",
   "execution_count": 6,
   "id": "b3848fb7-9877-4d8d-b152-d3daba31f75b",
   "metadata": {},
   "outputs": [
    {
     "name": "stdout",
     "output_type": "stream",
     "text": [
      "Factorial: 120\n"
     ]
    }
   ],
   "source": [
    "num = 5\n",
    "factorial = 1\n",
    "for i in range(1, num + 1):\n",
    "    factorial *= i\n",
    "print(\"Factorial:\", factorial)\n"
   ]
  },
  {
   "cell_type": "code",
   "execution_count": 7,
   "id": "08c1a0c0-e695-4d30-b950-86e8289771f7",
   "metadata": {},
   "outputs": [
    {
     "name": "stdout",
     "output_type": "stream",
     "text": [
      "H\n",
      "e\n",
      "l\n",
      "l\n",
      "o\n"
     ]
    }
   ],
   "source": [
    "my_string = \"Hello\"\n",
    "for char in my_string:\n",
    "    print(char)\n"
   ]
  },
  {
   "cell_type": "code",
   "execution_count": 8,
   "id": "43b53950-6a5e-4084-ad14-0078ec5abf52",
   "metadata": {},
   "outputs": [
    {
     "name": "stdout",
     "output_type": "stream",
     "text": [
      "Largest number: 9\n"
     ]
    }
   ],
   "source": [
    "my_list = [3, 7, 2, 9, 5]\n",
    "max_num = my_list[0]\n",
    "for num in my_list:\n",
    "    if num > max_num:\n",
    "        max_num = num\n",
    "print(\"Largest number:\", max_num)\n"
   ]
  },
  {
   "cell_type": "code",
   "execution_count": 9,
   "id": "6bc0d6b1-9be9-48f7-86df-d73cf669bf6f",
   "metadata": {},
   "outputs": [
    {
     "name": "stdout",
     "output_type": "stream",
     "text": [
      "0 1 1 2 3 5 8 13 21 34 "
     ]
    }
   ],
   "source": [
    "limit = 10\n",
    "a, b = 0, 1\n",
    "for _ in range(limit):\n",
    "    print(a, end=\" \")\n",
    "    a, b = b, a + b\n"
   ]
  },
  {
   "cell_type": "code",
   "execution_count": 10,
   "id": "f041f3b5-996a-4932-9dd7-b186f9162244",
   "metadata": {},
   "outputs": [
    {
     "name": "stdout",
     "output_type": "stream",
     "text": [
      "Number of vowels: 1\n"
     ]
    }
   ],
   "source": [
    "my_string = \"Python\"\n",
    "vowel_count = 0\n",
    "for char in my_string:\n",
    "    if char.lower() in \"aeiou\":\n",
    "        vowel_count += 1\n",
    "print(\"Number of vowels:\", vowel_count)\n"
   ]
  },
  {
   "cell_type": "code",
   "execution_count": 11,
   "id": "c8480d66-c8e3-43cb-a95e-c0332123cb99",
   "metadata": {},
   "outputs": [
    {
     "name": "stdout",
     "output_type": "stream",
     "text": [
      "5 x 1 = 5\n",
      "5 x 2 = 10\n",
      "5 x 3 = 15\n",
      "5 x 4 = 20\n",
      "5 x 5 = 25\n",
      "5 x 6 = 30\n",
      "5 x 7 = 35\n",
      "5 x 8 = 40\n",
      "5 x 9 = 45\n",
      "5 x 10 = 50\n"
     ]
    }
   ],
   "source": [
    "num = 5\n",
    "for i in range(1, 11):\n",
    "    print(f\"{num} x {i} = {num * i}\")\n"
   ]
  },
  {
   "cell_type": "code",
   "execution_count": 12,
   "id": "9f89edea-fee4-494b-bd60-e0cadf16d239",
   "metadata": {},
   "outputs": [
    {
     "name": "stdout",
     "output_type": "stream",
     "text": [
      "Reversed list: [5, 4, 3, 2, 1]\n"
     ]
    }
   ],
   "source": [
    "my_list = [1, 2, 3, 4, 5]\n",
    "reversed_list = []\n",
    "for item in reversed(my_list):\n",
    "    reversed_list.append(item)\n",
    "print(\"Reversed list:\", reversed_list)\n"
   ]
  },
  {
   "cell_type": "code",
   "execution_count": 13,
   "id": "8eebaf3a-a02f-4de0-a14c-d1b00133a03a",
   "metadata": {},
   "outputs": [
    {
     "name": "stdout",
     "output_type": "stream",
     "text": [
      "Common elements: [3, 4, 5]\n"
     ]
    }
   ],
   "source": [
    "list1 = [1, 2, 3, 4, 5]\n",
    "list2 = [3, 4, 5, 6, 7]\n",
    "common_elements = []\n",
    "for item in list1:\n",
    "    if item in list2:\n",
    "        common_elements.append(item)\n",
    "print(\"Common elements:\", common_elements)\n"
   ]
  },
  {
   "cell_type": "code",
   "execution_count": 14,
   "id": "2941ce62-c323-4871-a1af-c54cd9eeffb3",
   "metadata": {},
   "outputs": [
    {
     "name": "stdout",
     "output_type": "stream",
     "text": [
      "a 1\n",
      "b 2\n",
      "c 3\n"
     ]
    }
   ],
   "source": [
    "my_dict = {\"a\": 1, \"b\": 2, \"c\": 3}\n",
    "for key, value in my_dict.items():\n",
    "    print(key, value)\n"
   ]
  },
  {
   "cell_type": "code",
   "execution_count": 15,
   "id": "29e83f3c-e56b-431c-9b95-6a4a34fa70e1",
   "metadata": {},
   "outputs": [
    {
     "name": "stdout",
     "output_type": "stream",
     "text": [
      "GCD: 6\n"
     ]
    }
   ],
   "source": [
    "def gcd(a, b):\n",
    "    while b:\n",
    "        a, b = b, a % b\n",
    "    return a\n",
    "\n",
    "num1, num2 = 12, 18\n",
    "result = gcd(num1, num2)\n",
    "print(\"GCD:\", result)\n"
   ]
  },
  {
   "cell_type": "code",
   "execution_count": 16,
   "id": "2dd47b39-384d-48dd-a73b-e343b1ab678c",
   "metadata": {},
   "outputs": [
    {
     "name": "stdout",
     "output_type": "stream",
     "text": [
      "Is palindrome: True\n"
     ]
    }
   ],
   "source": [
    "my_string = \"level\"\n",
    "is_palindrome = True\n",
    "for i in range(len(my_string)//2):\n",
    "    if my_string[i] != my_string[len(my_string)-i-1]:\n",
    "        is_palindrome = False\n",
    "        break\n",
    "print(\"Is palindrome:\", is_palindrome)\n"
   ]
  },
  {
   "cell_type": "code",
   "execution_count": 17,
   "id": "fdc6c689-15f2-481d-a173-af9a5956bf7e",
   "metadata": {},
   "outputs": [
    {
     "name": "stdout",
     "output_type": "stream",
     "text": [
      "List with duplicates removed: [1, 2, 3, 4, 5]\n"
     ]
    }
   ],
   "source": [
    "my_list = [1, 2, 2, 3, 4, 4, 5]\n",
    "unique_list = []\n",
    "for item in my_list:\n",
    "    if item not in unique_list:\n",
    "        unique_list.append(item)\n",
    "print(\"List with duplicates removed:\", unique_list)\n"
   ]
  },
  {
   "cell_type": "code",
   "execution_count": 18,
   "id": "f854f619-0439-447f-accf-8d9a3c02f7f2",
   "metadata": {},
   "outputs": [
    {
     "name": "stdout",
     "output_type": "stream",
     "text": [
      "Number of words: 5\n"
     ]
    }
   ],
   "source": [
    "sentence = \"This is a sample sentence.\"\n",
    "word_count = len(sentence.split())\n",
    "print(\"Number of words:\", word_count)\n"
   ]
  },
  {
   "cell_type": "code",
   "execution_count": 19,
   "id": "9efd12e3-e536-4eab-b366-1583bc9b69a9",
   "metadata": {},
   "outputs": [
    {
     "name": "stdout",
     "output_type": "stream",
     "text": [
      "Sum of odd numbers: 625\n"
     ]
    }
   ],
   "source": [
    "sum_odd = 0\n",
    "for i in range(1, 51, 2):\n",
    "    sum_odd += i\n",
    "print(\"Sum of odd numbers:\", sum_odd)\n"
   ]
  },
  {
   "cell_type": "code",
   "execution_count": 20,
   "id": "788d516e-818d-4867-aeb0-ddb10149d9a0",
   "metadata": {},
   "outputs": [
    {
     "name": "stdout",
     "output_type": "stream",
     "text": [
      "2024 is a leap year.\n"
     ]
    }
   ],
   "source": [
    "def is_leap_year(year):\n",
    "    if (year % 4 == 0 and year % 100 != 0) or (year % 400 == 0):\n",
    "        return True\n",
    "    else:\n",
    "        return False\n",
    "\n",
    "year_to_check = 2024\n",
    "if is_leap_year(year_to_check):\n",
    "    print(f\"{year_to_check} is a leap year.\")\n",
    "else:\n",
    "    print(f\"{year_to_check} is not a leap year.\")\n"
   ]
  },
  {
   "cell_type": "code",
   "execution_count": 21,
   "id": "67cf2d7e-ffe0-433b-8a90-4014e6b0db02",
   "metadata": {},
   "outputs": [
    {
     "name": "stdout",
     "output_type": "stream",
     "text": [
      "Square root of 25 is approximately 5.00\n"
     ]
    }
   ],
   "source": [
    "def square_root(n):\n",
    "    guess = n / 2\n",
    "    for _ in range(10):  # Iterate 10 times for better approximation\n",
    "        guess = (guess + n / guess) / 2\n",
    "    return guess\n",
    "\n",
    "number_to_sqrt = 25\n",
    "result = square_root(number_to_sqrt)\n",
    "print(f\"Square root of {number_to_sqrt} is approximately {result:.2f}\")\n"
   ]
  },
  {
   "cell_type": "code",
   "execution_count": 22,
   "id": "9f6861f2-2477-474a-8644-2b1fd9d802fb",
   "metadata": {},
   "outputs": [
    {
     "name": "stdout",
     "output_type": "stream",
     "text": [
      "LCM: 36\n"
     ]
    }
   ],
   "source": [
    "def gcd(a, b):\n",
    "    while b:\n",
    "        a, b = b, a % b\n",
    "    return a\n",
    "\n",
    "def lcm(a, b):\n",
    "    return abs(a * b) // gcd(a, b)\n",
    "\n",
    "num1, num2 = 12, 18\n",
    "result = lcm(num1, num2)\n",
    "print(\"LCM:\", result)\n"
   ]
  },
  {
   "cell_type": "code",
   "execution_count": 23,
   "id": "1b6eb6fd-c8fa-4017-a611-36d39afa00ad",
   "metadata": {},
   "outputs": [
    {
     "name": "stdin",
     "output_type": "stream",
     "text": [
      "Enter a number:  50\n"
     ]
    },
    {
     "name": "stdout",
     "output_type": "stream",
     "text": [
      "Positive\n"
     ]
    }
   ],
   "source": [
    "num = float(input(\"Enter a number: \"))\n",
    "\n",
    "if num > 0:\n",
    "    print(\"Positive\")\n",
    "elif num < 0:\n",
    "    print(\"Negative\")\n",
    "else:\n",
    "    print(\"Zero\")\n"
   ]
  },
  {
   "cell_type": "code",
   "execution_count": 24,
   "id": "3d21930f-0002-4edc-a255-ddaad32b1caf",
   "metadata": {},
   "outputs": [
    {
     "name": "stdin",
     "output_type": "stream",
     "text": [
      "Enter a number:  55\n"
     ]
    },
    {
     "name": "stdout",
     "output_type": "stream",
     "text": [
      "Odd\n"
     ]
    }
   ],
   "source": [
    "num = int(input(\"Enter a number: \"))\n",
    "\n",
    "if num % 2 == 0:\n",
    "    print(\"Even\")\n",
    "else:\n",
    "    print(\"Odd\")\n"
   ]
  },
  {
   "cell_type": "code",
   "execution_count": 25,
   "id": "193122f5-aef2-4cda-be8b-929c14026c61",
   "metadata": {},
   "outputs": [
    {
     "name": "stdout",
     "output_type": "stream",
     "text": [
      "Both x and y are positive.\n"
     ]
    }
   ],
   "source": [
    "x = 10\n",
    "y = 5\n",
    "\n",
    "if x > 0:\n",
    "    if y > 0:\n",
    "        print(\"Both x and y are positive.\")\n",
    "    else:\n",
    "        print(\"Only x is positive.\")\n",
    "else:\n",
    "    print(\"Both x and y are non-positive.\")\n"
   ]
  },
  {
   "cell_type": "code",
   "execution_count": 26,
   "id": "653bf45f-923d-4b33-be8c-e4776def51ab",
   "metadata": {},
   "outputs": [
    {
     "name": "stdin",
     "output_type": "stream",
     "text": [
      "Enter the first number:  20\n",
      "Enter the second number:  30\n",
      "Enter the third number:  40\n"
     ]
    },
    {
     "name": "stdout",
     "output_type": "stream",
     "text": [
      "The largest number is: 40.0\n"
     ]
    }
   ],
   "source": [
    "num1 = float(input(\"Enter the first number: \"))\n",
    "num2 = float(input(\"Enter the second number: \"))\n",
    "num3 = float(input(\"Enter the third number: \"))\n",
    "\n",
    "if num1 >= num2 and num1 >= num3:\n",
    "    print(\"The largest number is:\", num1)\n",
    "elif num2 >= num1 and num2 >= num3:\n",
    "    print(\"The largest number is:\", num2)\n",
    "else:\n",
    "    print(\"The largest number is:\", num3)\n"
   ]
  },
  {
   "cell_type": "code",
   "execution_count": 27,
   "id": "9ec4543c-2fbc-4e51-9415-7e81d3048891",
   "metadata": {},
   "outputs": [
    {
     "name": "stdin",
     "output_type": "stream",
     "text": [
      "Enter a number:  34\n"
     ]
    },
    {
     "name": "stdout",
     "output_type": "stream",
     "text": [
      "Absolute value: 34.0\n"
     ]
    }
   ],
   "source": [
    "num = float(input(\"Enter a number: \"))\n",
    "\n",
    "if num >= 0:\n",
    "    print(\"Absolute value:\", num)\n",
    "else:\n",
    "    print(\"Absolute value:\", -num)\n"
   ]
  },
  {
   "cell_type": "code",
   "execution_count": 28,
   "id": "64c0f634-b5ff-4efd-a357-f047ebee27ef",
   "metadata": {},
   "outputs": [
    {
     "name": "stdin",
     "output_type": "stream",
     "text": [
      "Enter a character:  abcd\n"
     ]
    },
    {
     "name": "stdout",
     "output_type": "stream",
     "text": [
      "Consonant\n"
     ]
    }
   ],
   "source": [
    "char = input(\"Enter a character: \")\n",
    "\n",
    "if char.lower() in 'aeiou':\n",
    "    print(\"Vowel\")\n",
    "else:\n",
    "    print(\"Consonant\")\n"
   ]
  },
  {
   "cell_type": "code",
   "execution_count": 29,
   "id": "58b296f4-b58f-48fb-9b78-feced2f2e10a",
   "metadata": {},
   "outputs": [
    {
     "name": "stdin",
     "output_type": "stream",
     "text": [
      "Enter your age:  25\n"
     ]
    },
    {
     "name": "stdout",
     "output_type": "stream",
     "text": [
      "You are eligible to vote.\n"
     ]
    }
   ],
   "source": [
    "age = int(input(\"Enter your age: \"))\n",
    "\n",
    "if age >= 18:\n",
    "    print(\"You are eligible to vote.\")\n",
    "else:\n",
    "    print(\"You are not eligible to vote yet.\")\n"
   ]
  },
  {
   "cell_type": "code",
   "execution_count": 30,
   "id": "7282b1bf-c2d0-487a-9457-2ba1d9e7e0ad",
   "metadata": {},
   "outputs": [
    {
     "name": "stdin",
     "output_type": "stream",
     "text": [
      "Enter the purchase amount:  500\n"
     ]
    },
    {
     "name": "stdout",
     "output_type": "stream",
     "text": [
      "Discount amount: 0\n"
     ]
    }
   ],
   "source": [
    "purchase_amount = float(input(\"Enter the purchase amount: \"))\n",
    "\n",
    "if purchase_amount > 1000:\n",
    "    discount = 0.1 * purchase_amount\n",
    "else:\n",
    "    discount = 0\n",
    "\n",
    "print(\"Discount amount:\", discount)\n"
   ]
  },
  {
   "cell_type": "code",
   "execution_count": 31,
   "id": "43e58c29-4bad-410d-a9c6-969d92339cbb",
   "metadata": {},
   "outputs": [
    {
     "name": "stdin",
     "output_type": "stream",
     "text": [
      "Enter a number:  456\n"
     ]
    },
    {
     "name": "stdout",
     "output_type": "stream",
     "text": [
      "Number is outside the specified range.\n"
     ]
    }
   ],
   "source": [
    "num = float(input(\"Enter a number: \"))\n",
    "\n",
    "if 10 <= num <= 50:\n",
    "    print(\"Number is within the specified range.\")\n",
    "else:\n",
    "    print(\"Number is outside the specified range.\")\n"
   ]
  },
  {
   "cell_type": "code",
   "execution_count": 32,
   "id": "86101737-466f-40f4-910c-bf158bc2d078",
   "metadata": {},
   "outputs": [
    {
     "name": "stdin",
     "output_type": "stream",
     "text": [
      "Enter the student's score:  100\n"
     ]
    },
    {
     "name": "stdout",
     "output_type": "stream",
     "text": [
      "Grade: A\n"
     ]
    }
   ],
   "source": [
    "score = float(input(\"Enter the student's score: \"))\n",
    "\n",
    "if 90 <= score <= 100:\n",
    "    print(\"Grade: A\")\n",
    "elif 80 <= score < 90:\n",
    "    print(\"Grade: B\")\n",
    "elif 70 <= score < 80:\n",
    "    print(\"Grade: C\")\n",
    "elif 60 <= score < 70:\n",
    "    print(\"Grade: D\")\n",
    "else:\n",
    "    print(\"Grade: F\")\n"
   ]
  },
  {
   "cell_type": "code",
   "execution_count": 33,
   "id": "09ef29d9-c325-4b7f-8828-01a3121821ce",
   "metadata": {},
   "outputs": [
    {
     "name": "stdin",
     "output_type": "stream",
     "text": [
      "Enter a string:  abcd\n"
     ]
    },
    {
     "name": "stdout",
     "output_type": "stream",
     "text": [
      "String is not empty.\n"
     ]
    }
   ],
   "source": [
    "user_input = input(\"Enter a string: \")\n",
    "\n",
    "if not user_input:\n",
    "    print(\"String is empty.\")\n",
    "else:\n",
    "    print(\"String is not empty.\")\n"
   ]
  },
  {
   "cell_type": "code",
   "execution_count": 34,
   "id": "e627f7da-150c-4d63-841f-d358ea73bdf6",
   "metadata": {},
   "outputs": [
    {
     "name": "stdin",
     "output_type": "stream",
     "text": [
      "Enter the length of side 1:  30\n",
      "Enter the length of side 2:  30\n",
      "Enter the length of side 3:  40\n"
     ]
    },
    {
     "name": "stdout",
     "output_type": "stream",
     "text": [
      "Isosceles Triangle\n"
     ]
    }
   ],
   "source": [
    "side1 = float(input(\"Enter the length of side 1: \"))\n",
    "side2 = float(input(\"Enter the length of side 2: \"))\n",
    "side3 = float(input(\"Enter the length of side 3: \"))\n",
    "\n",
    "if side1 == side2 == side3:\n",
    "    print(\"Equilateral Triangle\")\n",
    "elif side1 == side2 or side1 == side3 or side2 == side3:\n",
    "    print(\"Isosceles Triangle\")\n",
    "else:\n",
    "    print(\"Scalene Triangle\")\n"
   ]
  },
  {
   "cell_type": "code",
   "execution_count": 35,
   "id": "62ba9016-4c42-49c6-8788-3dcc3f338794",
   "metadata": {},
   "outputs": [
    {
     "name": "stdin",
     "output_type": "stream",
     "text": [
      "Enter a number (1-7) for the day of the week:  5\n"
     ]
    },
    {
     "name": "stdout",
     "output_type": "stream",
     "text": [
      "Day of the week: Friday\n"
     ]
    }
   ],
   "source": [
    "day_number = int(input(\"Enter a number (1-7) for the day of the week: \"))\n",
    "\n",
    "if 1 <= day_number <= 7:\n",
    "    days = [\"Monday\", \"Tuesday\", \"Wednesday\", \"Thursday\", \"Friday\", \"Saturday\", \"Sunday\"]\n",
    "    print(\"Day of the week:\", days[day_number - 1])\n",
    "else:\n",
    "    print(\"Invalid input. Please enter a number between 1 and 7.\")\n"
   ]
  },
  {
   "cell_type": "code",
   "execution_count": 36,
   "id": "99100f46-a691-48b4-b297-7209d13e52d3",
   "metadata": {},
   "outputs": [
    {
     "name": "stdin",
     "output_type": "stream",
     "text": [
      "Enter a year:  1998\n"
     ]
    },
    {
     "name": "stdout",
     "output_type": "stream",
     "text": [
      "1998 is not a leap year.\n"
     ]
    }
   ],
   "source": [
    "def is_leap_year(year):\n",
    "    if (year % 4 == 0 and year % 100 != 0) or (year % 400 == 0):\n",
    "        return True\n",
    "    else:\n",
    "        return False\n",
    "\n",
    "user_year = int(input(\"Enter a year: \"))\n",
    "\n",
    "if is_leap_year(user_year):\n",
    "    print(f\"{user_year} is a leap year.\")\n",
    "else:\n",
    "    print(f\"{user_year} is not a leap year.\")\n"
   ]
  },
  {
   "cell_type": "code",
   "execution_count": 37,
   "id": "268e3192-7c34-4fdd-a757-8b7751aa4641",
   "metadata": {},
   "outputs": [
    {
     "name": "stdin",
     "output_type": "stream",
     "text": [
      "Enter a number:  500\n"
     ]
    },
    {
     "name": "stdout",
     "output_type": "stream",
     "text": [
      "The number is positive.\n"
     ]
    }
   ],
   "source": [
    "num = int(input(\"Enter a number: \"))\n",
    "\n",
    "assert num >= 0, \"Number must be non-negative.\"\n",
    "\n",
    "if num == 0:\n",
    "    print(\"The number is zero.\")\n",
    "else:\n",
    "    print(\"The number is positive.\")\n",
    "\n",
    "    "
   ]
  },
  {
   "cell_type": "code",
   "execution_count": 38,
   "id": "1c1be988-08dd-4e76-94b5-679bae27b6d2",
   "metadata": {},
   "outputs": [
    {
     "name": "stdin",
     "output_type": "stream",
     "text": [
      "Enter your age:  25\n"
     ]
    },
    {
     "name": "stdout",
     "output_type": "stream",
     "text": [
      "You are not eligible for a senior citizen discount.\n"
     ]
    }
   ],
   "source": [
    "age = int(input(\"Enter your age: \"))\n",
    "\n",
    "if age >= 60:\n",
    "    print(\"You are eligible for a senior citizen discount.\")\n",
    "else:\n",
    "    print(\"You are not eligible for a senior citizen discount.\")\n"
   ]
  },
  {
   "cell_type": "code",
   "execution_count": 39,
   "id": "3922ec8f-75eb-4f0a-8b5a-7e88a49ddcee",
   "metadata": {},
   "outputs": [
    {
     "name": "stdin",
     "output_type": "stream",
     "text": [
      "Enter a character:  abcd\n"
     ]
    },
    {
     "name": "stdout",
     "output_type": "stream",
     "text": [
      "Lowercase letter\n"
     ]
    }
   ],
   "source": [
    "char = input(\"Enter a character: \")\n",
    "\n",
    "if char.isupper():\n",
    "    print(\"Uppercase letter\")\n",
    "elif char.islower():\n",
    "    print(\"Lowercase letter\")\n",
    "else:\n",
    "    print(\"Not a letter or not uppercase/lowercase.\")\n"
   ]
  },
  {
   "cell_type": "code",
   "execution_count": 40,
   "id": "d1ef853e-c0b2-422d-939c-8e63b62a7afc",
   "metadata": {},
   "outputs": [
    {
     "name": "stdin",
     "output_type": "stream",
     "text": [
      "Enter coefficient a:  5\n",
      "Enter coefficient b:  5\n",
      "Enter coefficient c:  5\n"
     ]
    },
    {
     "name": "stdout",
     "output_type": "stream",
     "text": [
      "Roots are complex.\n"
     ]
    }
   ],
   "source": [
    "import math\n",
    "\n",
    "a = float(input(\"Enter coefficient a: \"))\n",
    "b = float(input(\"Enter coefficient b: \"))\n",
    "c = float(input(\"Enter coefficient c: \"))\n",
    "\n",
    "discriminant = b**2 - 4*a*c\n",
    "\n",
    "if discriminant > 0:\n",
    "    root1 = (-b + math.sqrt(discriminant)) / (2*a)\n",
    "    root2 = (-b - math.sqrt(discriminant)) / (2*a)\n",
    "    print(\"Roots are real and different:\", root1, \"and\", root2)\n",
    "elif discriminant == 0:\n",
    "    root = -b / (2*a)\n",
    "    print(\"Roots are real and the same:\", root)\n",
    "else:\n",
    "    print(\"Roots are complex.\")\n"
   ]
  },
  {
   "cell_type": "code",
   "execution_count": 41,
   "id": "529cf12d-be69-4da4-8261-2d2aae7dd16b",
   "metadata": {},
   "outputs": [
    {
     "name": "stdin",
     "output_type": "stream",
     "text": [
      "Enter a year:  1998\n"
     ]
    },
    {
     "name": "stdout",
     "output_type": "stream",
     "text": [
      "1998 is not a century year.\n"
     ]
    }
   ],
   "source": [
    "year = int(input(\"Enter a year: \"))\n",
    "\n",
    "if year % 100 == 0:\n",
    "    print(f\"{year} is a century year.\")\n",
    "else:\n",
    "    print(f\"{year} is not a century year.\")\n"
   ]
  },
  {
   "cell_type": "code",
   "execution_count": 42,
   "id": "d640f50f-7adb-40f1-bd5d-6bc7d6a971ab",
   "metadata": {},
   "outputs": [
    {
     "name": "stdin",
     "output_type": "stream",
     "text": [
      "Enter a number:  50\n"
     ]
    },
    {
     "name": "stdout",
     "output_type": "stream",
     "text": [
      "50 is not a perfect square.\n"
     ]
    }
   ],
   "source": [
    "import math\n",
    "\n",
    "num = int(input(\"Enter a number: \"))\n",
    "\n",
    "sqrt_num = math.sqrt(num)\n",
    "\n",
    "if sqrt_num.is_integer():\n",
    "    print(f\"{num} is a perfect square.\")\n",
    "else:\n",
    "    print(f\"{num} is not a perfect square.\")\n"
   ]
  },
  {
   "cell_type": "code",
   "execution_count": 45,
   "id": "b296b755-171b-423a-a450-853107db81bd",
   "metadata": {},
   "outputs": [
    {
     "name": "stdin",
     "output_type": "stream",
     "text": [
      "Enter your weight in kilograms:  68\n",
      "Enter your height in meters:  1.66\n"
     ]
    },
    {
     "name": "stdout",
     "output_type": "stream",
     "text": [
      "BMI is normal.\n"
     ]
    }
   ],
   "source": [
    "weight = float(input(\"Enter your weight in kilograms: \"))\n",
    "height = float(input(\"Enter your height in meters: \"))\n",
    "\n",
    "bmi = weight / (height ** 2)\n",
    "\n",
    "if 18.5 <= bmi < 25:\n",
    "    print(\"BMI is normal.\")\n",
    "elif bmi < 18.5:\n",
    "    print(\"Underweight\")\n",
    "else:\n",
    "    print(\"Overweight\")\n"
   ]
  },
  {
   "cell_type": "code",
   "execution_count": 46,
   "id": "a61e17b8-27e5-418e-9aa8-b08a002ecb84",
   "metadata": {},
   "outputs": [
    {
     "name": "stdout",
     "output_type": "stream",
     "text": [
      "Even numbers: [2, 4, 6, 8, 10]\n"
     ]
    }
   ],
   "source": [
    "numbers = [1, 2, 3, 4, 5, 6, 7, 8, 9, 10]\n",
    "\n",
    "filtered_numbers = list(filter(lambda x: x % 2 == 0, numbers))\n",
    "\n",
    "print(\"Even numbers:\", filtered_numbers)\n"
   ]
  },
  {
   "cell_type": "code",
   "execution_count": 47,
   "id": "e9b9ebee-17b9-4f8a-a9d2-0c705f0d6587",
   "metadata": {},
   "outputs": [
    {
     "name": "stdin",
     "output_type": "stream",
     "text": [
      "Enter a number:  50\n"
     ]
    },
    {
     "name": "stdout",
     "output_type": "stream",
     "text": [
      "50 is not a prime number.\n"
     ]
    }
   ],
   "source": [
    "def is_prime(num):\n",
    "    if num < 2:\n",
    "        return False\n",
    "    for i in range(2, int(num ** 0.5) + 1):\n",
    "        if num % i == 0:\n",
    "            return False\n",
    "    return True\n",
    "\n",
    "user_num = int(input(\"Enter a number: \"))\n",
    "\n",
    "if is_prime(user_num):\n",
    "    print(f\"{user_num} is a prime number.\")\n",
    "else:\n",
    "    print(f\"{user_num} is not a prime number.\")\n"
   ]
  },
  {
   "cell_type": "code",
   "execution_count": 50,
   "id": "ab7dd883-ff19-4c59-9ae8-5337ded1ab8d",
   "metadata": {},
   "outputs": [
    {
     "name": "stdout",
     "output_type": "stream",
     "text": [
      "[1, 4, 9, 16, 25]\n"
     ]
    }
   ],
   "source": [
    "# Define a function to square a number\n",
    "def square(x):\n",
    "    return x ** 2\n",
    "\n",
    "# List of numbers\n",
    "numbers = [1, 2, 3, 4, 5]\n",
    "\n",
    "# Use map() to square each element in the list\n",
    "squared_numbers = map(square, numbers)\n",
    "\n",
    "# Convert the result to a list\n",
    "squared_numbers_list = list(squared_numbers)\n",
    "\n",
    "# Output\n",
    "print(squared_numbers_list)\n",
    "\n"
   ]
  },
  {
   "cell_type": "code",
   "execution_count": 51,
   "id": "67f265e5-0977-4c7d-a74d-95b10f35526c",
   "metadata": {},
   "outputs": [
    {
     "name": "stdout",
     "output_type": "stream",
     "text": [
      "['ALICE', 'BOB', 'CHARLIE']\n"
     ]
    }
   ],
   "source": [
    "# List of names\n",
    "names = ['Alice', 'Bob', 'Charlie']\n",
    "\n",
    "# Use map() to convert each name to uppercase\n",
    "uppercased_names = map(str.upper, names)\n",
    "\n",
    "# Convert the result to a list\n",
    "uppercased_names_list = list(uppercased_names)\n",
    "\n",
    "# Output\n",
    "print(uppercased_names_list)\n"
   ]
  },
  {
   "cell_type": "code",
   "execution_count": 52,
   "id": "dca9f992-3d48-4f3a-9975-b6f94169db3a",
   "metadata": {},
   "outputs": [
    {
     "name": "stdout",
     "output_type": "stream",
     "text": [
      "[5, 6, 6]\n"
     ]
    }
   ],
   "source": [
    "# List of strings\n",
    "words = ['apple', 'banana', 'orange']\n",
    "\n",
    "# Use map() to calculate the length of each word\n",
    "word_lengths = map(len, words)\n",
    "\n",
    "# Convert the result to a list\n",
    "word_lengths_list = list(word_lengths)\n",
    "\n",
    "# Output\n",
    "print(word_lengths_list)\n"
   ]
  },
  {
   "cell_type": "code",
   "execution_count": 53,
   "id": "cb8daacd-caa7-4ceb-9c34-356d93cc4e76",
   "metadata": {},
   "outputs": [
    {
     "name": "stdout",
     "output_type": "stream",
     "text": [
      "['John Doe', 'Jane Smith', 'Bob Johnson']\n"
     ]
    }
   ],
   "source": [
    "# Custom function to concatenate corresponding elements of two lists\n",
    "def concatenate_names(first_name, last_name):\n",
    "    return f\"{first_name} {last_name}\"\n",
    "\n",
    "# Lists of first and last names\n",
    "first_names = ['John', 'Jane', 'Bob']\n",
    "last_names = ['Doe', 'Smith', 'Johnson']\n",
    "\n",
    "# Use map() to apply the custom function to elements of both lists\n",
    "full_names = map(concatenate_names, first_names, last_names)\n",
    "\n",
    "# Convert the result to a list\n",
    "full_names_list = list(full_names)\n",
    "\n",
    "# Output\n",
    "print(full_names_list)\n"
   ]
  },
  {
   "cell_type": "code",
   "execution_count": 54,
   "id": "be6a46d2-5f37-4661-904c-912fc2627594",
   "metadata": {},
   "outputs": [
    {
     "name": "stdout",
     "output_type": "stream",
     "text": [
      "[32.0, 77.0, 212.0]\n"
     ]
    }
   ],
   "source": [
    "# Custom function to convert Celsius to Fahrenheit\n",
    "def celsius_to_fahrenheit(celsius):\n",
    "    return (celsius * 9/5) + 32\n",
    "\n",
    "# List of temperatures in Celsius\n",
    "temperatures_celsius = [0, 25, 100]\n",
    "\n",
    "# Use map() to apply the conversion function\n",
    "temperatures_fahrenheit = map(celsius_to_fahrenheit, temperatures_celsius)\n",
    "\n",
    "# Convert the result to a list\n",
    "temperatures_fahrenheit_list = list(temperatures_fahrenheit)\n",
    "\n",
    "# Output\n",
    "print(temperatures_fahrenheit_list)\n"
   ]
  },
  {
   "cell_type": "code",
   "execution_count": 55,
   "id": "d74a3a3a-39bb-4166-bb83-51b38eab2a13",
   "metadata": {},
   "outputs": [
    {
     "name": "stdout",
     "output_type": "stream",
     "text": [
      "[2, 3, 4]\n"
     ]
    }
   ],
   "source": [
    "# List of floating-point numbers\n",
    "float_numbers = [1.5, 2.7, 3.9]\n",
    "\n",
    "# Use map() to round each element to the nearest integer\n",
    "rounded_numbers = map(round, float_numbers)\n",
    "\n",
    "# Convert the result to a list\n",
    "rounded_numbers_list = list(rounded_numbers)\n",
    "\n",
    "# Output\n",
    "print(rounded_numbers_list)\n"
   ]
  },
  {
   "cell_type": "code",
   "execution_count": 56,
   "id": "2b41ff8b-8c4e-43b1-ac6a-6b40d7ffb9e2",
   "metadata": {},
   "outputs": [],
   "source": [
    "#the reduce() function is part of the functools module in Python. It is used to cumulatively apply a binary function to the items of an iterable, from left to right, so as to reduce the iterable to a single accumulated result. The syntax is as follows:\n",
    "    "
   ]
  },
  {
   "cell_type": "code",
   "execution_count": 58,
   "id": "4f743456-f5ca-4f45-8de2-7b43c0a003a3",
   "metadata": {},
   "outputs": [
    {
     "name": "stdout",
     "output_type": "stream",
     "text": [
      "Product: 120\n"
     ]
    }
   ],
   "source": [
    "from functools import reduce\n",
    "\n",
    "def multiply(x, y):\n",
    "    return x * y\n",
    "\n",
    "numbers = [1, 2, 3, 4, 5]\n",
    "product = reduce(multiply, numbers)\n",
    "print(\"Product:\", product)\n",
    "\n"
   ]
  },
  {
   "cell_type": "code",
   "execution_count": 59,
   "id": "3d8f2a32-7737-446b-9fd2-f705d0899941",
   "metadata": {},
   "outputs": [
    {
     "name": "stdout",
     "output_type": "stream",
     "text": [
      "Maximum: 20\n"
     ]
    }
   ],
   "source": [
    "from functools import reduce\n",
    "\n",
    "numbers = [10, 5, 8, 20, 15]\n",
    "maximum = reduce(lambda x, y: x if x > y else y, numbers)\n",
    "print(\"Maximum:\", maximum)\n",
    "\n"
   ]
  },
  {
   "cell_type": "code",
   "execution_count": 60,
   "id": "bcf4d3d0-4086-41b4-b94b-c71ca22eb123",
   "metadata": {},
   "outputs": [
    {
     "name": "stdout",
     "output_type": "stream",
     "text": [
      "Concatenated String: Hello, world!\n"
     ]
    }
   ],
   "source": [
    "from functools import reduce\n",
    "\n",
    "strings = [\"Hello\", \", \", \"world\", \"!\"]\n",
    "concatenated_string = reduce(lambda x, y: x + y, strings)\n",
    "print(\"Concatenated String:\", concatenated_string)\n"
   ]
  },
  {
   "cell_type": "code",
   "execution_count": 61,
   "id": "772ea1de-3dbf-4422-a24c-3e07a63ecacd",
   "metadata": {},
   "outputs": [
    {
     "name": "stdout",
     "output_type": "stream",
     "text": [
      "Factorial of 5 : 120\n"
     ]
    }
   ],
   "source": [
    "from functools import reduce\n",
    "\n",
    "def factorial(n):\n",
    "    return reduce(lambda x, y: x * y, range(1, n + 1), 1)\n",
    "\n",
    "number = 5\n",
    "print(\"Factorial of\", number, \":\", factorial(number))\n"
   ]
  },
  {
   "cell_type": "code",
   "execution_count": 62,
   "id": "8a2bb4e2-dfc7-4f7a-ab35-46ef98d2618e",
   "metadata": {},
   "outputs": [
    {
     "name": "stdout",
     "output_type": "stream",
     "text": [
      "GCD: 6\n"
     ]
    }
   ],
   "source": [
    "from functools import reduce\n",
    "from math import gcd\n",
    "\n",
    "numbers = [12, 18, 24, 30]\n",
    "gcd_result = reduce(gcd, numbers)\n",
    "print(\"GCD:\", gcd_result)\n"
   ]
  },
  {
   "cell_type": "code",
   "execution_count": 63,
   "id": "0a0227fd-d816-486f-919c-c321c08f3c83",
   "metadata": {},
   "outputs": [
    {
     "name": "stdout",
     "output_type": "stream",
     "text": [
      "Sum of digits of 12345 : 15\n"
     ]
    }
   ],
   "source": [
    "from functools import reduce\n",
    "\n",
    "def sum_of_digits(n):\n",
    "    return reduce(lambda x, y: int(x) + int(y), str(n), 0)\n",
    "\n",
    "number = 12345\n",
    "print(\"Sum of digits of\", number, \":\", sum_of_digits(number))\n"
   ]
  },
  {
   "cell_type": "code",
   "execution_count": 64,
   "id": "a902dd98-cf75-4c28-a958-a93d00e9fb9a",
   "metadata": {},
   "outputs": [
    {
     "name": "stdout",
     "output_type": "stream",
     "text": [
      "Even numbers: [2, 4, 6, 8, 10]\n"
     ]
    }
   ],
   "source": [
    "# Program to filter even numbers from a list of integers\n",
    "numbers = [1, 2, 3, 4, 5, 6, 7, 8, 9, 10]\n",
    "\n",
    "# Define the filtering function for even numbers\n",
    "def is_even(num):\n",
    "    return num % 2 == 0\n",
    "\n",
    "# Use filter() to get even numbers\n",
    "even_numbers = list(filter(is_even, numbers))\n",
    "\n",
    "# Print the result\n",
    "print(\"Even numbers:\", even_numbers)\n"
   ]
  },
  {
   "cell_type": "code",
   "execution_count": 65,
   "id": "c8bc0816-ffd7-4c53-a0bb-740f0b99dc0c",
   "metadata": {},
   "outputs": [
    {
     "name": "stdout",
     "output_type": "stream",
     "text": [
      "Names starting with 'A': ['Alice']\n"
     ]
    }
   ],
   "source": [
    "# Program to filter names starting with a specific letter from a list of strings\n",
    "names = [\"Alice\", \"Bob\", \"Charlie\", \"David\", \"Eva\"]\n",
    "\n",
    "# Define the filtering function for names starting with 'A'\n",
    "def starts_with_a(name):\n",
    "    return name[0].lower() == 'a'\n",
    "\n",
    "# Use filter() to get names starting with 'A'\n",
    "filtered_names = list(filter(starts_with_a, names))\n",
    "\n",
    "# Print the result\n",
    "print(\"Names starting with 'A':\", filtered_names)\n"
   ]
  },
  {
   "cell_type": "code",
   "execution_count": 66,
   "id": "7b6e51f7-ad87-431f-a1b6-7671323ff60c",
   "metadata": {},
   "outputs": [
    {
     "name": "stdout",
     "output_type": "stream",
     "text": [
      "Prime numbers: [2, 3, 5, 7, 11, 13, 17, 19, 23, 29]\n"
     ]
    }
   ],
   "source": [
    "# Program to filter prime numbers from a list of integers\n",
    "def is_prime(num):\n",
    "    if num < 2:\n",
    "        return False\n",
    "    for i in range(2, int(num**0.5) + 1):\n",
    "        if num % i == 0:\n",
    "            return False\n",
    "    return True\n",
    "\n",
    "# List of integers\n",
    "numbers = [2, 3, 5, 7, 11, 13, 16, 17, 19, 23, 29]\n",
    "\n",
    "# Use filter() to get prime numbers\n",
    "prime_numbers = list(filter(is_prime, numbers))\n",
    "\n",
    "# Print the result\n",
    "print(\"Prime numbers:\", prime_numbers)\n"
   ]
  },
  {
   "cell_type": "code",
   "execution_count": 67,
   "id": "f7fc55f6-f644-4a82-a49b-503afaaa1f8a",
   "metadata": {},
   "outputs": [
    {
     "name": "stdout",
     "output_type": "stream",
     "text": [
      "List without None values: [1, 'hello', 42, 'world']\n"
     ]
    }
   ],
   "source": [
    "# Program to remove None values from a list using filter()\n",
    "mixed_list = [1, None, \"hello\", None, 42, None, \"world\"]\n",
    "\n",
    "# Use filter() to remove None values\n",
    "filtered_list = list(filter(lambda x: x is not None, mixed_list))\n",
    "\n",
    "# Print the result\n",
    "print(\"List without None values:\", filtered_list)\n"
   ]
  },
  {
   "cell_type": "code",
   "execution_count": 68,
   "id": "96a9ba48-0431-46fc-80b2-25b75cefc474",
   "metadata": {},
   "outputs": [
    {
     "name": "stdout",
     "output_type": "stream",
     "text": [
      "Words longer than 5 characters: ['banana', 'orange']\n"
     ]
    }
   ],
   "source": [
    "# Program to filter words longer than a certain length from a list of strings\n",
    "words = [\"apple\", \"banana\", \"grape\", \"kiwi\", \"orange\"]\n",
    "\n",
    "# Define the filtering function for words longer than 5 characters\n",
    "def is_long(word):\n",
    "    return len(word) > 5\n",
    "\n",
    "# Use filter() to get long words\n",
    "long_words = list(filter(is_long, words))\n",
    "\n",
    "# Print the result\n",
    "print(\"Words longer than 5 characters:\", long_words)\n"
   ]
  },
  {
   "cell_type": "code",
   "execution_count": 69,
   "id": "825825f9-8261-418f-bb79-8afc2b341d2a",
   "metadata": {},
   "outputs": [
    {
     "name": "stdout",
     "output_type": "stream",
     "text": [
      "Values greater than 20: [25, 30, 40]\n"
     ]
    }
   ],
   "source": [
    "# Program to filter elements greater than a specified threshold from a list of values\n",
    "values = [15, 25, 30, 10, 5, 40, 20]\n",
    "\n",
    "# Specify the threshold\n",
    "threshold = 20\n",
    "\n",
    "# Use filter() to get values greater than the threshold\n",
    "filtered_values = list(filter(lambda x: x > threshold, values))\n",
    "\n",
    "# Print the result\n",
    "print(f\"Values greater than {threshold}:\", filtered_values)\n"
   ]
  },
  {
   "cell_type": "code",
   "execution_count": 72,
   "id": "dd952338-27e6-4bb9-bb3f-a028f99b8289",
   "metadata": {},
   "outputs": [],
   "source": [
    "#Recursion is a programming concept where a function calls itself in order to solve a problem. It involves breaking a problem down into smaller, more manageable sub-problems until a base case is reached.\n",
    "\n",
    "#Differences between Recursion and Iteration:\n",
    "#Recursion involves a function calling itself, while iteration involves a loop (for or while).\n",
    "#Recursion often leads to more concise and readable code for certain problems.\n",
    "#Iteration may be more memory-efficient in some cases, as recursion uses the call stack."
   ]
  },
  {
   "cell_type": "code",
   "execution_count": 73,
   "id": "25ba4f50-e5c3-4212-ad54-4a5aebbc317a",
   "metadata": {},
   "outputs": [
    {
     "name": "stdout",
     "output_type": "stream",
     "text": [
      "Factorial: 120\n"
     ]
    }
   ],
   "source": [
    "def factorial(n):\n",
    "    if n == 0 or n == 1:\n",
    "        return 1\n",
    "    else:\n",
    "        return n * factorial(n-1)\n",
    "\n",
    "# Example usage\n",
    "result = factorial(5)\n",
    "print(\"Factorial:\", result)\n"
   ]
  },
  {
   "cell_type": "code",
   "execution_count": 74,
   "id": "96fd2e25-2cbd-4c57-9d33-88010ff98ed2",
   "metadata": {},
   "outputs": [
    {
     "name": "stdout",
     "output_type": "stream",
     "text": [
      "Fibonacci: 5\n"
     ]
    }
   ],
   "source": [
    "def fibonacci(n):\n",
    "    if n <= 1:\n",
    "        return n\n",
    "    else:\n",
    "        return fibonacci(n-1) + fibonacci(n-2)\n",
    "\n",
    "# Example usage\n",
    "result = fibonacci(5)\n",
    "print(\"Fibonacci:\", result)\n"
   ]
  },
  {
   "cell_type": "code",
   "execution_count": 75,
   "id": "49516a56-0c58-4fc1-beb5-4c9dc1ca10f8",
   "metadata": {},
   "outputs": [
    {
     "name": "stdout",
     "output_type": "stream",
     "text": [
      "Sum of List: 15\n"
     ]
    }
   ],
   "source": [
    "def sum_list(lst):\n",
    "    if not lst:\n",
    "        return 0\n",
    "    else:\n",
    "        return lst[0] + sum_list(lst[1:])\n",
    "\n",
    "# Example usage\n",
    "result = sum_list([1, 2, 3, 4, 5])\n",
    "print(\"Sum of List:\", result)\n"
   ]
  },
  {
   "cell_type": "code",
   "execution_count": 76,
   "id": "3e9362cb-0697-43a4-a3be-2ea86e39cfd3",
   "metadata": {},
   "outputs": [
    {
     "name": "stdout",
     "output_type": "stream",
     "text": [
      "GCD: 6\n"
     ]
    }
   ],
   "source": [
    "def gcd(a, b):\n",
    "    if b == 0:\n",
    "        return a\n",
    "    else:\n",
    "        return gcd(b, a % b)\n",
    "\n",
    "# Example usage\n",
    "result = gcd(48, 18)\n",
    "print(\"GCD:\", result)\n"
   ]
  },
  {
   "cell_type": "code",
   "execution_count": 77,
   "id": "86098e00-46cc-4877-9243-65b2581fc815",
   "metadata": {},
   "outputs": [
    {
     "name": "stdout",
     "output_type": "stream",
     "text": [
      "Reversed String: olleh\n"
     ]
    }
   ],
   "source": [
    "def reverse_string(s):\n",
    "    if len(s) <= 1:\n",
    "        return s\n",
    "    else:\n",
    "        return reverse_string(s[1:]) + s[0]\n",
    "\n",
    "# Example usage\n",
    "result = reverse_string(\"hello\")\n",
    "print(\"Reversed String:\", result)\n"
   ]
  },
  {
   "cell_type": "code",
   "execution_count": 78,
   "id": "b9f3cc03-db48-4423-86a1-b2da32aea245",
   "metadata": {},
   "outputs": [
    {
     "name": "stdout",
     "output_type": "stream",
     "text": [
      "Power: 8\n"
     ]
    }
   ],
   "source": [
    "def power(x, n):\n",
    "    if n == 0:\n",
    "        return 1\n",
    "    else:\n",
    "        return x * power(x, n-1)\n",
    "\n",
    "# Example usage\n",
    "result = power(2, 3)\n",
    "print(\"Power:\", result)\n"
   ]
  },
  {
   "cell_type": "code",
   "execution_count": 80,
   "id": "99bceb3b-1a39-4a11-9234-2afbb82aac15",
   "metadata": {},
   "outputs": [
    {
     "name": "stdout",
     "output_type": "stream",
     "text": [
      "Is Palindrome: True\n"
     ]
    }
   ],
   "source": [
    "def is_palindrome(s):\n",
    "    if len(s) <= 1:\n",
    "        return True\n",
    "    else:\n",
    "        return s[0] == s[-1] and is_palindrome(s[1:-1])\n",
    "\n",
    "# Example usage\n",
    "result = is_palindrome(\"radar\")\n",
    "print(\"Is Palindrome:\", result)\n"
   ]
  },
  {
   "cell_type": "code",
   "execution_count": 81,
   "id": "851d9125-2843-4d84-ac2d-c6c4277b3735",
   "metadata": {},
   "outputs": [
    {
     "name": "stdout",
     "output_type": "stream",
     "text": [
      "Combinations: [[], [3], [2], [2, 3], [1], [1, 3], [1, 2], [1, 2, 3]]\n"
     ]
    }
   ],
   "source": [
    "def combinations(lst):\n",
    "    if not lst:\n",
    "        return [[]]\n",
    "    else:\n",
    "        without_first = combinations(lst[1:])\n",
    "        with_first = [[lst[0]] + combo for combo in without_first]\n",
    "        return without_first + with_first\n",
    "\n",
    "# Example usage\n",
    "result = combinations([1, 2, 3])\n",
    "print(\"Combinations:\", result)\n"
   ]
  },
  {
   "cell_type": "code",
   "execution_count": 83,
   "id": "1a5bde07-d52a-4983-8f09-16d10815310b",
   "metadata": {},
   "outputs": [],
   "source": [
    "#Function in Python:\n",
    "#In Python, a function is a reusable block of code that performs a specific task. Functions are used to organize code into logical units, making it more modular and easier to understand. Functions help in avoiding code duplication, promoting code reusability, and enhancing maintainability."
   ]
  },
  {
   "cell_type": "code",
   "execution_count": 84,
   "id": "c7740452-87e1-4800-a1d8-fb14eee39b59",
   "metadata": {},
   "outputs": [
    {
     "name": "stdout",
     "output_type": "stream",
     "text": [
      "Hello, John!\n"
     ]
    }
   ],
   "source": [
    "def greet(name):\n",
    "    \"\"\"This function prints a greeting message.\"\"\"\n",
    "    print(f\"Hello, {name}!\")\n",
    "\n",
    "# Function call\n",
    "greet(\"John\")\n"
   ]
  },
  {
   "cell_type": "code",
   "execution_count": 91,
   "id": "6a45081c-0430-4413-9454-ade19aa5ccb2",
   "metadata": {},
   "outputs": [],
   "source": [
    "#Function Definition: This is where you specify what the function does, its parameters, and the structure of the code inside the function.\n",
    "#It uses the def keyword.\n",
    "\n"
   ]
  },
  {
   "cell_type": "code",
   "execution_count": 92,
   "id": "d434ddef-f1b9-4d05-a281-3e441c509196",
   "metadata": {},
   "outputs": [],
   "source": [
    "def add_numbers(a, b):\n",
    "    return a + b\n"
   ]
  },
  {
   "cell_type": "code",
   "execution_count": 93,
   "id": "d3ea790c-a242-448e-b6f8-6f0c9388cb8c",
   "metadata": {},
   "outputs": [],
   "source": [
    "#Function Call: This is where you invoke the function, providing the actual values or variables as arguments. It executes the code inside the function."
   ]
  },
  {
   "cell_type": "code",
   "execution_count": 94,
   "id": "30a756ba-7974-451d-80fa-1d75f41f5584",
   "metadata": {},
   "outputs": [],
   "source": [
    "result = add_numbers(3, 5)\n"
   ]
  },
  {
   "cell_type": "code",
   "execution_count": 95,
   "id": "e8356d1e-e318-4182-b292-ef36be005418",
   "metadata": {},
   "outputs": [
    {
     "name": "stdout",
     "output_type": "stream",
     "text": [
      "Sum: 30\n"
     ]
    }
   ],
   "source": [
    "def calculate_sum(a, b):\n",
    "    \"\"\"This function calculates the sum of two numbers.\"\"\"\n",
    "    return a + b\n",
    "\n",
    "# Function call\n",
    "result = calculate_sum(10, 20)\n",
    "print(\"Sum:\", result)\n"
   ]
  },
  {
   "cell_type": "code",
   "execution_count": 96,
   "id": "010183b1-0fef-494e-945b-0455710706b8",
   "metadata": {},
   "outputs": [
    {
     "name": "stdout",
     "output_type": "stream",
     "text": [
      "Product: 40\n"
     ]
    }
   ],
   "source": [
    "def calculate_product(x, y):\n",
    "    \"\"\"This function calculates the product of two numbers.\"\"\"\n",
    "    return x * y\n",
    "\n",
    "# Example usage\n",
    "result = calculate_product(5, 8)\n",
    "print(\"Product:\", result)\n"
   ]
  },
  {
   "cell_type": "code",
   "execution_count": 99,
   "id": "2439a273-dfa8-4446-83a7-348b4a82cc6d",
   "metadata": {},
   "outputs": [
    {
     "name": "stdout",
     "output_type": "stream",
     "text": [
      "Hello, Vishwajeet!\n",
      "Hi, Singh!\n"
     ]
    }
   ],
   "source": [
    "def greet(name, greeting=\"Hello\"):\n",
    "    print(f\"{greeting}, {name}!\")\n",
    "\n",
    "# Calling the function with and without specifying the 'greeting'\n",
    "greet(\"Vishwajeet\")        # Output: Hello, Alice!\n",
    "greet(\"Singh\", \"Hi\")    # Output: Hi, Bob!\n"
   ]
  },
  {
   "cell_type": "code",
   "execution_count": 100,
   "id": "8c061571-5d6e-467c-9876-7c771d12a7c4",
   "metadata": {},
   "outputs": [
    {
     "name": "stdout",
     "output_type": "stream",
     "text": [
      "John is 25 years old and lives in Varanasi.\n"
     ]
    }
   ],
   "source": [
    "def person_info(name, age, city):\n",
    "    print(f\"{name} is {age} years old and lives in {city}.\")\n",
    "\n",
    "# Using keyword arguments during the function call\n",
    "person_info(name=\"John\", age=25, city=\"Varanasi\")\n"
   ]
  },
  {
   "cell_type": "code",
   "execution_count": 101,
   "id": "a65a6478-920e-4761-95fc-aae0e48fb815",
   "metadata": {},
   "outputs": [
    {
     "name": "stdout",
     "output_type": "stream",
     "text": [
      "15\n"
     ]
    }
   ],
   "source": [
    "def sum_all(*args):\n",
    "    return sum(args)\n",
    "\n",
    "result = sum_all(1, 2, 3, 4, 5)\n",
    "print(result)  # Output: 15\n"
   ]
  },
  {
   "cell_type": "code",
   "execution_count": 102,
   "id": "485c3613-8562-42d8-b80b-104e8ea8436b",
   "metadata": {},
   "outputs": [
    {
     "name": "stdout",
     "output_type": "stream",
     "text": [
      "Positional arguments: (1, 2)\n",
      "Keyword arguments: {'a': 'apple', 'b': 'banana'}\n"
     ]
    }
   ],
   "source": [
    "def example_function(*args, **kwargs):\n",
    "    print(\"Positional arguments:\", args)\n",
    "    print(\"Keyword arguments:\", kwargs)\n",
    "\n",
    "# Calling the function with various arguments\n",
    "example_function(1, 2, a=\"apple\", b=\"banana\")\n"
   ]
  },
  {
   "cell_type": "code",
   "execution_count": 104,
   "id": "44a87fd7-1e7f-422c-b453-4b668bc7ffb2",
   "metadata": {},
   "outputs": [
    {
     "name": "stdout",
     "output_type": "stream",
     "text": [
      "7\n"
     ]
    }
   ],
   "source": [
    "def add_numbers(a, b):\n",
    "    result = a + b\n",
    "    return result\n",
    "\n",
    "sum_result = add_numbers(3, 4)\n",
    "print(sum_result)  # Output: 7\n"
   ]
  },
  {
   "cell_type": "code",
   "execution_count": 105,
   "id": "802235c8-adb7-4d5d-abae-bb24a60802b0",
   "metadata": {},
   "outputs": [
    {
     "name": "stdout",
     "output_type": "stream",
     "text": [
      "Local variable: 5\n",
      "Accessing global variable: 10\n",
      "Outside the function - Global variable: 10\n"
     ]
    }
   ],
   "source": [
    "# Global variable\n",
    "global_var = 10\n",
    "\n",
    "def example_function():\n",
    "    # Local variable\n",
    "    local_var = 5\n",
    "    print(\"Local variable:\", local_var)\n",
    "    print(\"Accessing global variable:\", global_var)\n",
    "\n",
    "example_function()\n",
    "print(\"Outside the function - Global variable:\", global_var)\n"
   ]
  },
  {
   "cell_type": "code",
   "execution_count": 107,
   "id": "0ae2f6c3-0914-4b6f-9702-fb6662a3115c",
   "metadata": {},
   "outputs": [
    {
     "name": "stdout",
     "output_type": "stream",
     "text": [
      "Modified global variable: 15\n"
     ]
    }
   ],
   "source": [
    "global_var = 10\n",
    "\n",
    "def modify_global():\n",
    "    global global_var\n",
    "    global_var += 5\n",
    "\n",
    "modify_global()\n",
    "print(\"Modified global variable:\", global_var)  # Output: 15\n"
   ]
  },
  {
   "cell_type": "code",
   "execution_count": 108,
   "id": "9b74881e-f63e-4f29-b26b-18f400279916",
   "metadata": {},
   "outputs": [
    {
     "name": "stdout",
     "output_type": "stream",
     "text": [
      "Factorial of 5: 120\n"
     ]
    }
   ],
   "source": [
    "def factorial(n):\n",
    "    if n == 0 or n == 1:\n",
    "        return 1\n",
    "    else:\n",
    "        return n * factorial(n - 1)\n",
    "\n",
    "result = factorial(5)\n",
    "print(\"Factorial of 5:\", result)  # Output: 120\n"
   ]
  },
  {
   "cell_type": "code",
   "execution_count": 109,
   "id": "3d9ac246-b632-49fd-9cad-6cd2b74a8ca4",
   "metadata": {},
   "outputs": [
    {
     "name": "stdout",
     "output_type": "stream",
     "text": [
      "Inside function: I'm outside!\n"
     ]
    }
   ],
   "source": [
    "outside_var = \"I'm outside!\"\n",
    "\n",
    "def access_outside():\n",
    "    print(\"Inside function:\", outside_var)\n",
    "\n",
    "access_outside()  # Output: Inside function: I'm outside!\n"
   ]
  },
  {
   "cell_type": "code",
   "execution_count": 110,
   "id": "0e9e5deb-548b-4d91-b40c-d9ded10f32db",
   "metadata": {},
   "outputs": [
    {
     "name": "stdout",
     "output_type": "stream",
     "text": [
      "25\n"
     ]
    }
   ],
   "source": [
    "square = lambda x: x ** 2\n",
    "print(square(5))  # Output: 25\n"
   ]
  },
  {
   "cell_type": "code",
   "execution_count": 111,
   "id": "92627bf4-fa0c-40c3-847d-1999d3dc3701",
   "metadata": {},
   "outputs": [
    {
     "name": "stdout",
     "output_type": "stream",
     "text": [
      "[(3, 2), (1, 5), (2, 7), (8, 10)]\n"
     ]
    }
   ],
   "source": [
    "tuple_list = [(1, 5), (3, 2), (8, 10), (2, 7)]\n",
    "\n",
    "sorted_list = sorted(tuple_list, key=lambda x: x[1])\n",
    "print(sorted_list)\n"
   ]
  },
  {
   "cell_type": "code",
   "execution_count": 112,
   "id": "13bd0138-6bb9-44ed-b6b7-126152d3f545",
   "metadata": {},
   "outputs": [
    {
     "name": "stdout",
     "output_type": "stream",
     "text": [
      "Result of addition: 7\n",
      "Result of multiplication: 12\n"
     ]
    }
   ],
   "source": [
    "def apply_operation(operation, x, y):\n",
    "    return operation(x, y)\n",
    "\n",
    "def add(a, b):\n",
    "    return a + b\n",
    "\n",
    "def multiply(a, b):\n",
    "    return a * b\n",
    "\n",
    "result_add = apply_operation(add, 3, 4)\n",
    "result_multiply = apply_operation(multiply, 3, 4)\n",
    "\n",
    "print(\"Result of addition:\", result_add)           # Output: 7\n",
    "print(\"Result of multiplication:\", result_multiply)  # Output: 12\n"
   ]
  },
  {
   "cell_type": "code",
   "execution_count": 114,
   "id": "bf873005-f4af-4b8c-97be-d8b15c70de85",
   "metadata": {},
   "outputs": [
    {
     "name": "stdout",
     "output_type": "stream",
     "text": [
      "Original list: [1, 2, 3, 4, 5]\n",
      "Squared list: [1, 4, 9, 16, 25]\n"
     ]
    }
   ],
   "source": [
    "def apply_function_to_list(numbers, func):\n",
    "    return [func(num) for num in numbers]\n",
    "\n",
    "numbers = [1, 2, 3, 4, 5]\n",
    "squared_numbers = apply_function_to_list(numbers, lambda x: x ** 2)\n",
    "\n",
    "print(\"Original list:\", numbers)\n",
    "print(\"Squared list:\", squared_numbers)\n"
   ]
  },
  {
   "cell_type": "code",
   "execution_count": 115,
   "id": "03dc7301-de6f-46c3-8677-f1cbb99b9f72",
   "metadata": {},
   "outputs": [
    {
     "name": "stdout",
     "output_type": "stream",
     "text": [
      "Length: 5\n",
      "Maximum: 9\n",
      "Minimum: 1\n"
     ]
    }
   ],
   "source": [
    "my_list = [3, 7, 1, 9, 4]\n",
    "\n",
    "length = len(my_list)\n",
    "maximum = max(my_list)\n",
    "minimum = min(my_list)\n",
    "\n",
    "print(\"Length:\", length)    # Output: 5\n",
    "print(\"Maximum:\", maximum)  # Output: 9\n",
    "print(\"Minimum:\", minimum)  # Output: 1\n",
    "\n"
   ]
  },
  {
   "cell_type": "code",
   "execution_count": 116,
   "id": "8695c980-9714-4b16-9c3c-a83d1188ce95",
   "metadata": {},
   "outputs": [
    {
     "name": "stdout",
     "output_type": "stream",
     "text": [
      "Original list: [1, 2, 3, 4, 5]\n",
      "Squared list: [1, 4, 9, 16, 25]\n"
     ]
    }
   ],
   "source": [
    "def square(x):\n",
    "    return x ** 2\n",
    "\n",
    "numbers = [1, 2, 3, 4, 5]\n",
    "\n",
    "squared_numbers = map(square, numbers)\n",
    "squared_numbers_list = list(squared_numbers)\n",
    "\n",
    "print(\"Original list:\", numbers)\n",
    "print(\"Squared list:\", squared_numbers_list)\n"
   ]
  },
  {
   "cell_type": "code",
   "execution_count": 117,
   "id": "5a2a8700-d6ae-4769-a374-b0d77f8a7596",
   "metadata": {},
   "outputs": [
    {
     "name": "stdout",
     "output_type": "stream",
     "text": [
      "Original list: [1, 2, 3, 4, 5, 6]\n",
      "Even numbers: [2, 4, 6]\n"
     ]
    }
   ],
   "source": [
    "def is_even(x):\n",
    "    return x % 2 == 0\n",
    "\n",
    "numbers = [1, 2, 3, 4, 5, 6]\n",
    "\n",
    "even_numbers = filter(is_even, numbers)\n",
    "even_numbers_list = list(even_numbers)\n",
    "\n",
    "print(\"Original list:\", numbers)\n",
    "print(\"Even numbers:\", even_numbers_list)\n"
   ]
  },
  {
   "cell_type": "code",
   "execution_count": 118,
   "id": "7322f6f1-d15a-4b66-8b60-ea6ff2c8098a",
   "metadata": {},
   "outputs": [
    {
     "name": "stdout",
     "output_type": "stream",
     "text": [
      "Original list: [1, 2, 3, 4, 5]\n",
      "Product of all elements: 120\n"
     ]
    }
   ],
   "source": [
    "from functools import reduce\n",
    "\n",
    "def multiply(x, y):\n",
    "    return x * y\n",
    "\n",
    "numbers = [1, 2, 3, 4, 5]\n",
    "\n",
    "product = reduce(multiply, numbers)\n",
    "\n",
    "print(\"Original list:\", numbers)\n",
    "print(\"Product of all elements:\", product)\n"
   ]
  },
  {
   "cell_type": "code",
   "execution_count": 119,
   "id": "a23834d9-49c9-4fef-a8c7-6e2e04059c52",
   "metadata": {},
   "outputs": [],
   "source": [
    "#Function Documentation and Best Practices:"
   ]
  },
  {
   "cell_type": "code",
   "execution_count": 120,
   "id": "f8d3b0c6-aeea-4bd5-a2ab-f6b0ce529075",
   "metadata": {},
   "outputs": [],
   "source": [
    "def add(a, b):\n",
    "    \"\"\"\n",
    "    This function takes two parameters, 'a' and 'b', and returns their sum.\n",
    "    \"\"\"\n",
    "    return a + b\n"
   ]
  },
  {
   "cell_type": "code",
   "execution_count": 121,
   "id": "3459c074-e959-4815-aaff-5777f10ccf01",
   "metadata": {},
   "outputs": [],
   "source": [
    "def calculate_total_amount(cart_items):\n",
    "    \"\"\"\n",
    "    This function calculates the total amount of a shopping cart.\n",
    "    \"\"\"\n",
    "    total = 0\n",
    "    for item in cart_items:\n",
    "        total += item['price'] * item['quantity']\n",
    "    return total\n"
   ]
  },
  {
   "cell_type": "code",
   "execution_count": null,
   "id": "504574aa-e8fb-4af3-983c-2ba5a622998b",
   "metadata": {},
   "outputs": [],
   "source": []
  }
 ],
 "metadata": {
  "kernelspec": {
   "display_name": "Python 3 (ipykernel)",
   "language": "python",
   "name": "python3"
  },
  "language_info": {
   "codemirror_mode": {
    "name": "ipython",
    "version": 3
   },
   "file_extension": ".py",
   "mimetype": "text/x-python",
   "name": "python",
   "nbconvert_exporter": "python",
   "pygments_lexer": "ipython3",
   "version": "3.10.8"
  }
 },
 "nbformat": 4,
 "nbformat_minor": 5
}
